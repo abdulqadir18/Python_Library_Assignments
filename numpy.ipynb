{
 "cells": [
  {
   "cell_type": "code",
   "execution_count": 2,
   "id": "440861db",
   "metadata": {},
   "outputs": [],
   "source": [
    "# Abdul Qadir Boxwala\n",
    "# 0801CS201003\n",
    "\n",
    "# Q1. Write a NumPy program to compute the condition number of a given matrix.\n",
    "import numpy as np"
   ]
  },
  {
   "cell_type": "code",
   "execution_count": 5,
   "id": "3bdbe5eb",
   "metadata": {},
   "outputs": [],
   "source": [
    "mat1=np.array([[1,2,3],[4,5,6],[1,2,3]])"
   ]
  },
  {
   "cell_type": "code",
   "execution_count": 6,
   "id": "25f86268",
   "metadata": {},
   "outputs": [
    {
     "data": {
      "text/plain": [
       "array([[1, 2, 3],\n",
       "       [4, 5, 6],\n",
       "       [1, 2, 3]])"
      ]
     },
     "execution_count": 6,
     "metadata": {},
     "output_type": "execute_result"
    }
   ],
   "source": [
    "mat1"
   ]
  },
  {
   "cell_type": "code",
   "execution_count": 8,
   "id": "8b864943",
   "metadata": {
    "scrolled": true
   },
   "outputs": [
    {
     "name": "stdout",
     "output_type": "stream",
     "text": [
      "5.125126400120226e+16\n"
     ]
    }
   ],
   "source": [
    "print(np.linalg.cond(mat1))"
   ]
  },
  {
   "cell_type": "code",
   "execution_count": 9,
   "id": "eb974e44",
   "metadata": {},
   "outputs": [],
   "source": [
    "# Q2. Write a NumPy program to make all the elements of a given string to a numeric\n",
    "# string of 5 digits with zeros on its left.\n",
    "mat2=['2' ,'11' ,'234' ,'1234' ,'12345']"
   ]
  },
  {
   "cell_type": "code",
   "execution_count": 10,
   "id": "3233019c",
   "metadata": {},
   "outputs": [],
   "source": [
    "mat2=np.char.zfill(mat2,5)"
   ]
  },
  {
   "cell_type": "code",
   "execution_count": 11,
   "id": "309fcef5",
   "metadata": {},
   "outputs": [
    {
     "data": {
      "text/plain": [
       "array(['00002', '00011', '00234', '01234', '12345'], dtype='<U5')"
      ]
     },
     "execution_count": 11,
     "metadata": {},
     "output_type": "execute_result"
    }
   ],
   "source": [
    "mat2"
   ]
  },
  {
   "cell_type": "code",
   "execution_count": 12,
   "id": "d1d1c1b9",
   "metadata": {},
   "outputs": [],
   "source": [
    "# Q3. Perform all bitwise operations on array using numpy.\n",
    "num1,num2=10,12"
   ]
  },
  {
   "cell_type": "code",
   "execution_count": 13,
   "id": "d414eb1a",
   "metadata": {},
   "outputs": [
    {
     "name": "stdout",
     "output_type": "stream",
     "text": [
      "8\n"
     ]
    }
   ],
   "source": [
    "print(np.bitwise_and(num1,num2))  "
   ]
  },
  {
   "cell_type": "code",
   "execution_count": 14,
   "id": "ba060824",
   "metadata": {},
   "outputs": [
    {
     "name": "stdout",
     "output_type": "stream",
     "text": [
      "14\n"
     ]
    }
   ],
   "source": [
    "print(np.bitwise_or(num1,num2))  "
   ]
  },
  {
   "cell_type": "code",
   "execution_count": 15,
   "id": "08c8b237",
   "metadata": {},
   "outputs": [
    {
     "name": "stdout",
     "output_type": "stream",
     "text": [
      "6\n"
     ]
    }
   ],
   "source": [
    "print(np.bitwise_xor(num1,num2))  "
   ]
  },
  {
   "cell_type": "code",
   "execution_count": 17,
   "id": "fc09f057",
   "metadata": {
    "scrolled": false
   },
   "outputs": [
    {
     "name": "stdout",
     "output_type": "stream",
     "text": [
      "20\n"
     ]
    }
   ],
   "source": [
    "print(np.left_shift(num1,1))"
   ]
  },
  {
   "cell_type": "code",
   "execution_count": 18,
   "id": "786edb14",
   "metadata": {
    "scrolled": false
   },
   "outputs": [
    {
     "name": "stdout",
     "output_type": "stream",
     "text": [
      "5\n"
     ]
    }
   ],
   "source": [
    "print(np.right_shift(num1,1))"
   ]
  },
  {
   "cell_type": "code",
   "execution_count": 19,
   "id": "654b4532",
   "metadata": {},
   "outputs": [
    {
     "name": "stdout",
     "output_type": "stream",
     "text": [
      "num1 =  00001010  Inversion of num1 =  11110101\n"
     ]
    }
   ],
   "source": [
    "print(\"num1 = \",np.binary_repr(num1,width=8),\" Inversion of num1 = \",np.binary_repr(np.invert(num1),width=8))"
   ]
  },
  {
   "cell_type": "code",
   "execution_count": 37,
   "id": "af797397",
   "metadata": {
    "scrolled": true
   },
   "outputs": [
    {
     "name": "stdout",
     "output_type": "stream",
     "text": [
      "['2022-09-01' '2022-09-02' '2022-09-03' '2022-09-04' '2022-09-05'\n",
      " '2022-09-06' '2022-09-07' '2022-09-08' '2022-09-09' '2022-09-10'\n",
      " '2022-09-11' '2022-09-12' '2022-09-13' '2022-09-14' '2022-09-15'\n",
      " '2022-09-16' '2022-09-17' '2022-09-18' '2022-09-19' '2022-09-20'\n",
      " '2022-09-21' '2022-09-22' '2022-09-23' '2022-09-24' '2022-09-25'\n",
      " '2022-09-26' '2022-09-27' '2022-09-28' '2022-09-29' '2022-09-30']\n"
     ]
    }
   ],
   "source": [
    "#  Q4. Write a numpy program to display all the dates for the month of September 2022.\n",
    "print(np.arange('2022-09', '2022-10',dtype='datetime64[D]'))"
   ]
  },
  {
   "cell_type": "code",
   "execution_count": 21,
   "id": "6cd51ca9",
   "metadata": {},
   "outputs": [],
   "source": [
    "# Q5. Apply all sorting techniques to sort the array along axis=1.Given array = ([ [34,\n",
    "# 76, 18], [10, 56, 29], [52, 69, 77] ])\n",
    "mat3=np.array([ [34,76, 18], [10, 56, 29], [52, 69, 77] ])"
   ]
  },
  {
   "cell_type": "code",
   "execution_count": 22,
   "id": "21f8ea30",
   "metadata": {
    "scrolled": true
   },
   "outputs": [
    {
     "data": {
      "text/plain": [
       "array([[18, 34, 76],\n",
       "       [10, 29, 56],\n",
       "       [52, 69, 77]])"
      ]
     },
     "execution_count": 22,
     "metadata": {},
     "output_type": "execute_result"
    }
   ],
   "source": [
    "np.sort(mat3, axis=1,kind='quicksort') "
   ]
  },
  {
   "cell_type": "code",
   "execution_count": 23,
   "id": "111227c8",
   "metadata": {},
   "outputs": [
    {
     "data": {
      "text/plain": [
       "array([[18, 34, 76],\n",
       "       [10, 29, 56],\n",
       "       [52, 69, 77]])"
      ]
     },
     "execution_count": 23,
     "metadata": {},
     "output_type": "execute_result"
    }
   ],
   "source": [
    "np.sort(mat3, axis=1,kind='mergesort') "
   ]
  },
  {
   "cell_type": "code",
   "execution_count": 24,
   "id": "13e7215f",
   "metadata": {},
   "outputs": [
    {
     "data": {
      "text/plain": [
       "array([[18, 34, 76],\n",
       "       [10, 29, 56],\n",
       "       [52, 69, 77]])"
      ]
     },
     "execution_count": 24,
     "metadata": {},
     "output_type": "execute_result"
    }
   ],
   "source": [
    "np.sort(mat3, axis=1,kind='heapsort') "
   ]
  },
  {
   "cell_type": "code",
   "execution_count": 25,
   "id": "3de81e9e",
   "metadata": {},
   "outputs": [
    {
     "data": {
      "text/plain": [
       "array([[18, 34, 76],\n",
       "       [10, 29, 56],\n",
       "       [52, 69, 77]])"
      ]
     },
     "execution_count": 25,
     "metadata": {},
     "output_type": "execute_result"
    }
   ],
   "source": [
    "np.sort(mat3, axis=1,kind='stable') "
   ]
  },
  {
   "cell_type": "code",
   "execution_count": 26,
   "id": "5d0cb5b2",
   "metadata": {},
   "outputs": [],
   "source": [
    "# Q6. Solve equation 4x+3y=20 and -5x+9y=26 find inverse of matrix,rank and also\n",
    "# find cube of all elements.\n",
    "# Like A=[[4,3][-5,9]] AND B=[20,26]\n",
    "mat4=np.array([[4,3],[-5,9]])"
   ]
  },
  {
   "cell_type": "code",
   "execution_count": 27,
   "id": "0cb48e37",
   "metadata": {},
   "outputs": [],
   "source": [
    "mat5=np.array([20,26])"
   ]
  },
  {
   "cell_type": "code",
   "execution_count": 28,
   "id": "af40d0e7",
   "metadata": {
    "scrolled": false
   },
   "outputs": [
    {
     "name": "stdout",
     "output_type": "stream",
     "text": [
      "[2. 4.]\n"
     ]
    }
   ],
   "source": [
    "print(np.linalg.solve(mat4,mat5))"
   ]
  },
  {
   "cell_type": "code",
   "execution_count": 29,
   "id": "15b4f087",
   "metadata": {},
   "outputs": [
    {
     "name": "stdout",
     "output_type": "stream",
     "text": [
      "[[ 0.17647059 -0.05882353]\n",
      " [ 0.09803922  0.07843137]]\n"
     ]
    }
   ],
   "source": [
    "print(np.linalg.inv(mat4))"
   ]
  },
  {
   "cell_type": "code",
   "execution_count": 30,
   "id": "f95092b5",
   "metadata": {
    "scrolled": true
   },
   "outputs": [
    {
     "name": "stdout",
     "output_type": "stream",
     "text": [
      "2\n"
     ]
    }
   ],
   "source": [
    "print(np.linalg.matrix_rank(mat4))"
   ]
  },
  {
   "cell_type": "code",
   "execution_count": 37,
   "id": "b51cdd2f",
   "metadata": {
    "scrolled": true
   },
   "outputs": [
    {
     "name": "stdout",
     "output_type": "stream",
     "text": [
      "[[-191  354]\n",
      " [-590  399]]\n"
     ]
    }
   ],
   "source": [
    "print(np.linalg.matrix_power(mat4,3))"
   ]
  },
  {
   "cell_type": "code",
   "execution_count": 39,
   "id": "a4a04773",
   "metadata": {},
   "outputs": [],
   "source": [
    "# Q7. Write a NumPy program to get the indices of the sorted elements of a given\n",
    "# array(1023, 5202, 6230, 1671, 1682, 5241, 4532).\n",
    "mat6=np.array([1023, 5202, 6230, 1671, 1682, 5241, 4532])"
   ]
  },
  {
   "cell_type": "code",
   "execution_count": 40,
   "id": "fe90a3b6",
   "metadata": {
    "scrolled": true
   },
   "outputs": [
    {
     "name": "stdout",
     "output_type": "stream",
     "text": [
      "[0 3 4 6 1 5 2]\n"
     ]
    }
   ],
   "source": [
    "print(np.argsort(mat6))"
   ]
  },
  {
   "cell_type": "code",
   "execution_count": 41,
   "id": "31c41f71",
   "metadata": {
    "scrolled": true
   },
   "outputs": [
    {
     "name": "stdout",
     "output_type": "stream",
     "text": [
      "[[ 4  3]\n",
      " [-5  9]\n",
      " [20 26]]\n"
     ]
    }
   ],
   "source": [
    "print(np.vstack((mat4,mat5)))"
   ]
  },
  {
   "cell_type": "code",
   "execution_count": 42,
   "id": "55c2ce06",
   "metadata": {},
   "outputs": [
    {
     "name": "stdout",
     "output_type": "stream",
     "text": [
      "[[ 4  3  4  3]\n",
      " [-5  9 -5  9]]\n"
     ]
    }
   ],
   "source": [
    "print(np.hstack((mat4,mat4)))"
   ]
  },
  {
   "cell_type": "code",
   "execution_count": 43,
   "id": "8ed17ada",
   "metadata": {},
   "outputs": [
    {
     "name": "stdout",
     "output_type": "stream",
     "text": [
      "2\n"
     ]
    }
   ],
   "source": [
    "# Q8. Join array vertically and horizontally and find dimension and shape of array and\n",
    "# also use reshape method .\n",
    "print(np.ndim(mat4))"
   ]
  },
  {
   "cell_type": "code",
   "execution_count": 44,
   "id": "8c2d8b56",
   "metadata": {},
   "outputs": [
    {
     "name": "stdout",
     "output_type": "stream",
     "text": [
      "(2, 2)\n"
     ]
    }
   ],
   "source": [
    "print(np.shape(mat4))"
   ]
  },
  {
   "cell_type": "code",
   "execution_count": 45,
   "id": "e2bc2830",
   "metadata": {},
   "outputs": [
    {
     "name": "stdout",
     "output_type": "stream",
     "text": [
      "[[ 4  3 -5  9]]\n"
     ]
    }
   ],
   "source": [
    "print(np.reshape(mat4,(1,4)))"
   ]
  },
  {
   "cell_type": "code",
   "execution_count": 46,
   "id": "ea7a1bc7",
   "metadata": {
    "scrolled": true
   },
   "outputs": [
    {
     "name": "stdout",
     "output_type": "stream",
     "text": [
      "[1 1 0 1 0 1 1 3 1 1 1 2 0 0 0 1 0 0 1 0]\n"
     ]
    }
   ],
   "source": [
    "# Q9. Find binomial and poisson distribution of array of size 20 and no of trials is 10.\n",
    "print(np.random.binomial(10,0.1,20))"
   ]
  },
  {
   "cell_type": "code",
   "execution_count": 47,
   "id": "9c11f6f0",
   "metadata": {},
   "outputs": [
    {
     "name": "stdout",
     "output_type": "stream",
     "text": [
      "[10  5  8 11 17  8 17 10 10  9 12 11  3 12  6 12 10 10 12 12]\n"
     ]
    }
   ],
   "source": [
    "print(np.random.poisson(10,20))"
   ]
  },
  {
   "cell_type": "code",
   "execution_count": 48,
   "id": "cb1d2360",
   "metadata": {},
   "outputs": [],
   "source": [
    "# Q10. Write a NumPy program to test equal, not equal, greater equal, greater and less\n",
    "# test of all the elements of two given arrays.\n",
    "arr1,arr2=np.array([1,2,3]),np.array([4,5,6])"
   ]
  },
  {
   "cell_type": "code",
   "execution_count": 49,
   "id": "f2fca4fe",
   "metadata": {},
   "outputs": [
    {
     "data": {
      "text/plain": [
       "(array([1, 2, 3]), array([4, 5, 6]))"
      ]
     },
     "execution_count": 49,
     "metadata": {},
     "output_type": "execute_result"
    }
   ],
   "source": [
    "arr1,arr2"
   ]
  },
  {
   "cell_type": "code",
   "execution_count": 50,
   "id": "a253421f",
   "metadata": {
    "scrolled": true
   },
   "outputs": [
    {
     "name": "stdout",
     "output_type": "stream",
     "text": [
      "[False False False]\n"
     ]
    }
   ],
   "source": [
    "print(np.equal(arr1,arr2))"
   ]
  },
  {
   "cell_type": "code",
   "execution_count": 51,
   "id": "22dba805",
   "metadata": {},
   "outputs": [
    {
     "name": "stdout",
     "output_type": "stream",
     "text": [
      "[ True  True  True]\n"
     ]
    }
   ],
   "source": [
    "print(np.not_equal(arr1,arr2))"
   ]
  },
  {
   "cell_type": "code",
   "execution_count": 52,
   "id": "c6b97058",
   "metadata": {},
   "outputs": [
    {
     "name": "stdout",
     "output_type": "stream",
     "text": [
      "[False False False]\n"
     ]
    }
   ],
   "source": [
    "print(np.greater_equal(arr1,arr2))"
   ]
  },
  {
   "cell_type": "code",
   "execution_count": 53,
   "id": "29051d0b",
   "metadata": {},
   "outputs": [
    {
     "name": "stdout",
     "output_type": "stream",
     "text": [
      "[False False False]\n"
     ]
    }
   ],
   "source": [
    "print(np.greater(arr1,arr2))"
   ]
  },
  {
   "cell_type": "code",
   "execution_count": 54,
   "id": "1c1af6ed",
   "metadata": {},
   "outputs": [
    {
     "name": "stdout",
     "output_type": "stream",
     "text": [
      "[ True  True  True]\n"
     ]
    }
   ],
   "source": [
    "print(np.less(arr1,arr2))"
   ]
  },
  {
   "cell_type": "code",
   "execution_count": 55,
   "id": "e4c28038",
   "metadata": {},
   "outputs": [
    {
     "name": "stdout",
     "output_type": "stream",
     "text": [
      "[ True  True  True]\n"
     ]
    }
   ],
   "source": [
    "print(np.less_equal(arr1,arr2))"
   ]
  }
 ],
 "metadata": {
  "kernelspec": {
   "display_name": "Python 3 (ipykernel)",
   "language": "python",
   "name": "python3"
  },
  "language_info": {
   "codemirror_mode": {
    "name": "ipython",
    "version": 3
   },
   "file_extension": ".py",
   "mimetype": "text/x-python",
   "name": "python",
   "nbconvert_exporter": "python",
   "pygments_lexer": "ipython3",
   "version": "3.9.6"
  }
 },
 "nbformat": 4,
 "nbformat_minor": 5
}
